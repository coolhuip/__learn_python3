{
 "cells": [
  {
   "attachments": {},
   "cell_type": "markdown",
   "metadata": {},
   "source": [
    "<font size=\"6\">25 nooby Python habits you need to ditch</font><br>\n",
    "<font size=\"3\">*Youtuber: mCoding*</font>\n"
   ]
  },
  {
   "attachments": {},
   "cell_type": "markdown",
   "metadata": {},
   "source": [
    "-- -- "
   ]
  },
  {
   "attachments": {},
   "cell_type": "markdown",
   "metadata": {},
   "source": [
    "### 1. Manually Formatting String\n",
    "🤦‍♂️ &nbsp;&nbsp;&nbsp; Concatenating strings with the '+' operator<br>"
   ]
  },
  {
   "cell_type": "code",
   "execution_count": 6,
   "metadata": {},
   "outputs": [],
   "source": [
    "# BAD\n",
    "def str_formatting_bad(name: str, subscribers: int) -> None:\n",
    "    if subscribers > 100000:\n",
    "        print(\"Wow, \" + name + \"! You have \" + str(subscribers) + \" subs!\")\n",
    "    else:\n",
    "        print(\"bruh\")"
   ]
  },
  {
   "attachments": {},
   "cell_type": "markdown",
   "metadata": {},
   "source": [
    "🫦 &nbsp;&nbsp;&nbsp; Using f.strings"
   ]
  },
  {
   "cell_type": "code",
   "execution_count": 7,
   "metadata": {},
   "outputs": [],
   "source": [
    "# GOOD\n",
    "def str_formatting_good(name: str, subscribers: int) -> None:\n",
    "    if subscribers > 100000:\n",
    "        print(f\"Wow, {name}! You have {subscribers} subs!\")\n",
    "    else:\n",
    "        print(\"bruh\")"
   ]
  },
  {
   "attachments": {},
   "cell_type": "markdown",
   "metadata": {},
   "source": [
    "-- -- -- -- -- -- -- -- -- -- -- -- -- -- -- -- -- -- -- -- -- -- -- -- "
   ]
  },
  {
   "attachments": {},
   "cell_type": "markdown",
   "metadata": {},
   "source": [
    "### 2. Manually Closing a File\n",
    "🤦‍♂️ &nbsp;&nbsp;&nbsp; Manually closing files may cause unhandled exceptions."
   ]
  },
  {
   "cell_type": "code",
   "execution_count": 9,
   "metadata": {},
   "outputs": [],
   "source": [
    "# BAD\n",
    "def file_close_bad(filename):\n",
    "    f = open(filename, \"w\")\n",
    "    f.write(\"Hello!\\n\") # If this line causes an Exception, the file will NOT close.\n",
    "    f.close()"
   ]
  },
  {
   "attachments": {},
   "cell_type": "markdown",
   "metadata": {},
   "source": [
    "🫦 &nbsp;&nbsp;&nbsp; Instead, use the ***with-as*** keywords."
   ]
  },
  {
   "cell_type": "code",
   "execution_count": 8,
   "metadata": {},
   "outputs": [],
   "source": [
    "# GOOD\n",
    "def file_close_good(filename):\n",
    "    with open(filename) as f:\n",
    "        f.write(\"Hello!\\n\")"
   ]
  },
  {
   "attachments": {},
   "cell_type": "markdown",
   "metadata": {},
   "source": [
    "-- -- -- -- -- -- -- -- -- -- -- -- -- -- -- -- -- -- -- -- -- -- -- -- "
   ]
  },
  {
   "attachments": {},
   "cell_type": "markdown",
   "metadata": {},
   "source": [
    "### 3. Using 'Try-Finally', Instead of Context Manager\n",
    "🤦‍♂️ &nbsp;&nbsp;&nbsp; This is a common mistake made by users of other languages."
   ]
  },
  {
   "cell_type": "code",
   "execution_count": 11,
   "metadata": {},
   "outputs": [],
   "source": [
    "# BAD\n",
    "def using_try_finally(host, port):\n",
    "    s = socket.socket(socket.AF_INET, socket.SOCK_STREAM)\n",
    "    try:\n",
    "        s.connnect((host, port))\n",
    "        s.sendall(b\"Hello, world\")\n",
    "    finally:\n",
    "        s.close"
   ]
  },
  {
   "attachments": {},
   "cell_type": "markdown",
   "metadata": {},
   "source": [
    "🫦 &nbsp;&nbsp;&nbsp; In Python, most resources that need to be closed has a built-in Context Manager. USE IT."
   ]
  },
  {
   "cell_type": "code",
   "execution_count": 10,
   "metadata": {},
   "outputs": [],
   "source": [
    "def using_context_manager(host, port):\n",
    "    with socket.socket(socket.AF_INET, socket.SOCK_STREAM) as s:\n",
    "        s.connect((host, port))\n",
    "        s.sendall(b\"Hello, world\")"
   ]
  },
  {
   "attachments": {},
   "cell_type": "markdown",
   "metadata": {},
   "source": [
    "-- -- -- -- -- -- -- -- -- -- -- -- -- -- -- -- -- -- -- -- -- -- -- -- "
   ]
  },
  {
   "attachments": {},
   "cell_type": "markdown",
   "metadata": {},
   "source": [
    "### 4. Using a Bare 'Except' Clause\n",
    "🤦‍♂️ &nbsp;&nbsp;&nbsp; In Python, keyboard interrupts & system exits are propagated using Exceptions.\n",
    "<br><br>This means that a bare Except cluase will catch something like the user hitting CTRL-C...<br>\n",
    "...which is ALMOST NEVER what you want to do."
   ]
  },
  {
   "cell_type": "code",
   "execution_count": 12,
   "metadata": {},
   "outputs": [],
   "source": [
    "def bare_except():\n",
    "    while True:\n",
    "        try:\n",
    "            s = input(\"Input a number: \")\n",
    "            x = int(s)\n",
    "        except:  # Oops! Can't CTRL-C to exit\n",
    "            print(\"Not a number, try again!\")"
   ]
  },
  {
   "attachments": {},
   "cell_type": "markdown",
   "metadata": {},
   "source": [
    "🫦 &nbsp;&nbsp;&nbsp; Catch the specific type of Exception that may be thrown."
   ]
  },
  {
   "cell_type": "code",
   "execution_count": 13,
   "metadata": {},
   "outputs": [],
   "source": [
    "def not_bare_except():\n",
    "    while True:\n",
    "        try:\n",
    "            s = input(\"Input a number: \")\n",
    "            x = int(s)\n",
    "        except ValueError:  # Oops! Can't CTRL-C to exit\n",
    "            print(\"Not a number, try again!\")"
   ]
  },
  {
   "attachments": {},
   "cell_type": "markdown",
   "metadata": {},
   "source": [
    "-- -- -- -- -- -- -- -- -- -- -- -- -- -- -- -- -- -- -- -- -- -- -- -- "
   ]
  },
  {
   "attachments": {},
   "cell_type": "markdown",
   "metadata": {},
   "source": [
    "### 5. Using Mutable Objects as Parameter Defaults\n",
    "🤦‍♂️ &nbsp;&nbsp;&nbsp; Parameter defaults are defined when the function is defined.<br><br>\n",
    "It's NOT defined when the function is called.<br>\n",
    "This means that every function call in our program will share this mutable object as a parameter default."
   ]
  },
  {
   "cell_type": "code",
   "execution_count": 15,
   "metadata": {},
   "outputs": [],
   "source": [
    "def append(num, lst=[]):\n",
    "    lst.append(num)\n",
    "    return lst\n",
    "\n",
    "l1 = append(0)  # [0]\n",
    "l2 = append(1)  # [0, 1] bruh"
   ]
  },
  {
   "attachments": {},
   "cell_type": "markdown",
   "metadata": {},
   "source": [
    "🫦 &nbsp;&nbsp;&nbsp; If you want a mutable default parameter, perform the ***is-None*** check."
   ]
  },
  {
   "cell_type": "code",
   "execution_count": 16,
   "metadata": {},
   "outputs": [],
   "source": [
    "def append(num, lst=None):\n",
    "    if lst is None:\n",
    "        lst = []\n",
    "    lst.append(num)\n",
    "    return lst\n",
    "\n",
    "l1 = append(0)  # [0]\n",
    "l2 = append(1)  # [1]"
   ]
  },
  {
   "attachments": {},
   "cell_type": "markdown",
   "metadata": {},
   "source": [
    "-- -- -- -- -- -- -- -- -- -- -- -- -- -- -- -- -- -- -- -- -- -- -- -- "
   ]
  },
  {
   "attachments": {},
   "cell_type": "markdown",
   "metadata": {},
   "source": [
    "### 6. Never Using Comprehensions (or only using List Comprehensions)\n",
    "🤦‍♂️ &nbsp;&nbsp;&nbsp; bruh"
   ]
  },
  {
   "cell_type": "code",
   "execution_count": 17,
   "metadata": {},
   "outputs": [],
   "source": [
    "def noob_set_creation():\n",
    "    squares = {}\n",
    "    for i in range(10):\n",
    "        squares[i] = i * i"
   ]
  },
  {
   "attachments": {},
   "cell_type": "markdown",
   "metadata": {},
   "source": [
    "🫦 &nbsp;&nbsp;&nbsp; hoooooo mai gawd"
   ]
  },
  {
   "cell_type": "code",
   "execution_count": 18,
   "metadata": {},
   "outputs": [],
   "source": [
    "def sexy_dict_creation():\n",
    "    squares = {i: i * i for i in range(10)}"
   ]
  },
  {
   "attachments": {},
   "cell_type": "markdown",
   "metadata": {},
   "source": [
    "🫦🫦 &nbsp;&nbsp;&nbsp; hoooooooooooooooooooooooo mai gawwwwd"
   ]
  },
  {
   "cell_type": "code",
   "execution_count": 19,
   "metadata": {},
   "outputs": [],
   "source": [
    "def comprehensions():\n",
    "    dict_comp = {i: i * i for i in range(10)}\n",
    "    list_comp = [x*x for x in range(10)]\n",
    "    set_comp = {n%3 for n in range(10)}\n",
    "    generator_comp = (2*t+5 for t in range(10))"
   ]
  }
 ],
 "metadata": {
  "kernelspec": {
   "display_name": "Python 3",
   "language": "python",
   "name": "python3"
  },
  "language_info": {
   "codemirror_mode": {
    "name": "ipython",
    "version": 3
   },
   "file_extension": ".py",
   "mimetype": "text/x-python",
   "name": "python",
   "nbconvert_exporter": "python",
   "pygments_lexer": "ipython3",
   "version": "3.11.0rc1 (main, Aug 12 2022, 10:02:14) [GCC 11.2.0]"
  },
  "orig_nbformat": 4,
  "vscode": {
   "interpreter": {
    "hash": "ead1b95f633dc9c51826328e1846203f51a198c6fb5f2884a80417ba131d4e82"
   }
  }
 },
 "nbformat": 4,
 "nbformat_minor": 2
}
